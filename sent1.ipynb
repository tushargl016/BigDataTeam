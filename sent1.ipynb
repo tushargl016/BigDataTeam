{
 "cells": [
  {
   "cell_type": "code",
   "execution_count": 12,
   "metadata": {
    "collapsed": false
   },
   "outputs": [],
   "source": [
    "from nltk.classify import NaiveBayesClassifier\n",
    "from nltk.corpus import subjectivity\n",
    "from nltk.sentiment import SentimentAnalyzer"
   ]
  },
  {
   "cell_type": "code",
   "execution_count": 20,
   "metadata": {
    "collapsed": false
   },
   "outputs": [],
   "source": [
    "from nltk.sentiment.vader import SentimentIntensityAnalyzer\n",
    "from nltk import tokenize"
   ]
  },
  {
   "cell_type": "code",
   "execution_count": 21,
   "metadata": {
    "collapsed": true
   },
   "outputs": [],
   "source": [
    "sentences = [\"Most automated sentiment analysis tools are shit.\",\n",
    "    \"VADER sentiment analysis is the shit.\"]"
   ]
  },
  {
   "cell_type": "code",
   "execution_count": 25,
   "metadata": {
    "collapsed": false
   },
   "outputs": [
    {
     "name": "stdout",
     "output_type": "stream",
     "text": [
      "Most automated sentiment analysis tools are shit.\n",
      "compound: -0.5574, neg: 0.375, neu: 0.625, pos: 0.0, \n",
      "VADER sentiment analysis is the shit.\n",
      "compound: 0.6124, neg: 0.0, neu: 0.556, pos: 0.444, \n"
     ]
    }
   ],
   "source": [
    "#sentences.extend(tricky_sentences)\n",
    "sid = SentimentIntensityAnalyzer()\n",
    "for sentence in sentences:\n",
    "     print(sentence)\n",
    "     ss = sid.polarity_scores(sentence)\n",
    "     for k in sorted(ss):\n",
    "         print('{0}: {1}, '.format(k, ss[k]), end='')\n",
    "     print()"
   ]
  },
  {
   "cell_type": "code",
   "execution_count": 34,
   "metadata": {
    "collapsed": false
   },
   "outputs": [],
   "source": [
    "import pandas as pd\n",
    "dataset = pd.read_excel(\"C:/Users/Reema/Documents/NetBeansProjects/GA/datanew.xlsx\")"
   ]
  },
  {
   "cell_type": "code",
   "execution_count": 35,
   "metadata": {
    "collapsed": false
   },
   "outputs": [
    {
     "data": {
      "text/plain": [
       "64706"
      ]
     },
     "execution_count": 35,
     "metadata": {},
     "output_type": "execute_result"
    }
   ],
   "source": [
    "len(dataset)"
   ]
  },
  {
   "cell_type": "code",
   "execution_count": 36,
   "metadata": {
    "collapsed": false
   },
   "outputs": [
    {
     "data": {
      "text/html": [
       "<div>\n",
       "<table border=\"1\" class=\"dataframe\">\n",
       "  <thead>\n",
       "    <tr style=\"text-align: right;\">\n",
       "      <th></th>\n",
       "      <th>reviewerID</th>\n",
       "      <th>asin</th>\n",
       "      <th>reviewerName</th>\n",
       "      <th>helpful</th>\n",
       "      <th>reviewText</th>\n",
       "      <th>overall</th>\n",
       "      <th>summary</th>\n",
       "      <th>unixReviewTime</th>\n",
       "      <th>reviewTime</th>\n",
       "    </tr>\n",
       "  </thead>\n",
       "  <tbody>\n",
       "    <tr>\n",
       "      <th>0</th>\n",
       "      <td>A3EBHHCZO6V2A4</td>\n",
       "      <td>5555991584</td>\n",
       "      <td>Amaranth \"music fan\"</td>\n",
       "      <td>[3,3]</td>\n",
       "      <td>It's hard to believe \"Memory of Trees\" came ou...</td>\n",
       "      <td>5</td>\n",
       "      <td>Enya's last great album</td>\n",
       "      <td>1158019200</td>\n",
       "      <td>09 12, 2006</td>\n",
       "    </tr>\n",
       "    <tr>\n",
       "      <th>1</th>\n",
       "      <td>AZPWAXJG9OJXV</td>\n",
       "      <td>5555991584</td>\n",
       "      <td>bethtexas</td>\n",
       "      <td>[0,0]</td>\n",
       "      <td>A clasically-styled and introverted album, Mem...</td>\n",
       "      <td>5</td>\n",
       "      <td>Enya at her most elegant</td>\n",
       "      <td>991526400</td>\n",
       "      <td>06 3, 2001</td>\n",
       "    </tr>\n",
       "    <tr>\n",
       "      <th>2</th>\n",
       "      <td>A38IRL0X2T4DPF</td>\n",
       "      <td>5555991584</td>\n",
       "      <td>bob turnley</td>\n",
       "      <td>[2,2]</td>\n",
       "      <td>I never thought Enya would reach the sublime h...</td>\n",
       "      <td>5</td>\n",
       "      <td>The best so far</td>\n",
       "      <td>1058140800</td>\n",
       "      <td>07 14, 2003</td>\n",
       "    </tr>\n",
       "    <tr>\n",
       "      <th>3</th>\n",
       "      <td>A22IK3I6U76GX0</td>\n",
       "      <td>5555991584</td>\n",
       "      <td>Calle</td>\n",
       "      <td>[1,1]</td>\n",
       "      <td>This is the third review of an irish album I w...</td>\n",
       "      <td>5</td>\n",
       "      <td>Ireland produces good music.</td>\n",
       "      <td>957312000</td>\n",
       "      <td>05 3, 2000</td>\n",
       "    </tr>\n",
       "    <tr>\n",
       "      <th>4</th>\n",
       "      <td>A1AISPOIIHTHXX</td>\n",
       "      <td>5555991584</td>\n",
       "      <td>Cloud \"...\"</td>\n",
       "      <td>[1,1]</td>\n",
       "      <td>Enya, despite being a successful recording art...</td>\n",
       "      <td>4</td>\n",
       "      <td>4.5; music to dream to</td>\n",
       "      <td>1200528000</td>\n",
       "      <td>01 17, 2008</td>\n",
       "    </tr>\n",
       "  </tbody>\n",
       "</table>\n",
       "</div>"
      ],
      "text/plain": [
       "       reviewerID        asin          reviewerName helpful  \\\n",
       "0  A3EBHHCZO6V2A4  5555991584  Amaranth \"music fan\"   [3,3]   \n",
       "1   AZPWAXJG9OJXV  5555991584             bethtexas   [0,0]   \n",
       "2  A38IRL0X2T4DPF  5555991584           bob turnley   [2,2]   \n",
       "3  A22IK3I6U76GX0  5555991584                 Calle   [1,1]   \n",
       "4  A1AISPOIIHTHXX  5555991584           Cloud \"...\"   [1,1]   \n",
       "\n",
       "                                          reviewText overall  \\\n",
       "0  It's hard to believe \"Memory of Trees\" came ou...       5   \n",
       "1  A clasically-styled and introverted album, Mem...       5   \n",
       "2  I never thought Enya would reach the sublime h...       5   \n",
       "3  This is the third review of an irish album I w...       5   \n",
       "4  Enya, despite being a successful recording art...       4   \n",
       "\n",
       "                        summary unixReviewTime   reviewTime  \n",
       "0       Enya's last great album     1158019200  09 12, 2006  \n",
       "1      Enya at her most elegant      991526400   06 3, 2001  \n",
       "2               The best so far     1058140800  07 14, 2003  \n",
       "3  Ireland produces good music.      957312000   05 3, 2000  \n",
       "4        4.5; music to dream to     1200528000  01 17, 2008  "
      ]
     },
     "execution_count": 36,
     "metadata": {},
     "output_type": "execute_result"
    }
   ],
   "source": [
    "dataset.head(n=5)"
   ]
  },
  {
   "cell_type": "code",
   "execution_count": 37,
   "metadata": {
    "collapsed": true
   },
   "outputs": [],
   "source": [
    "subset = dataset.head(n=10)    "
   ]
  },
  {
   "cell_type": "code",
   "execution_count": 41,
   "metadata": {
    "collapsed": false
   },
   "outputs": [
    {
     "data": {
      "text/html": [
       "<div>\n",
       "<table border=\"1\" class=\"dataframe\">\n",
       "  <thead>\n",
       "    <tr style=\"text-align: right;\">\n",
       "      <th></th>\n",
       "      <th>reviewerID</th>\n",
       "      <th>asin</th>\n",
       "      <th>reviewerName</th>\n",
       "      <th>helpful</th>\n",
       "      <th>reviewText</th>\n",
       "      <th>overall</th>\n",
       "      <th>summary</th>\n",
       "      <th>unixReviewTime</th>\n",
       "      <th>reviewTime</th>\n",
       "    </tr>\n",
       "  </thead>\n",
       "  <tbody>\n",
       "    <tr>\n",
       "      <th>0</th>\n",
       "      <td>A3EBHHCZO6V2A4</td>\n",
       "      <td>5555991584</td>\n",
       "      <td>Amaranth \"music fan\"</td>\n",
       "      <td>[3,3]</td>\n",
       "      <td>It's hard to believe \"Memory of Trees\" came ou...</td>\n",
       "      <td>5</td>\n",
       "      <td>Enya's last great album</td>\n",
       "      <td>1158019200</td>\n",
       "      <td>09 12, 2006</td>\n",
       "    </tr>\n",
       "    <tr>\n",
       "      <th>1</th>\n",
       "      <td>AZPWAXJG9OJXV</td>\n",
       "      <td>5555991584</td>\n",
       "      <td>bethtexas</td>\n",
       "      <td>[0,0]</td>\n",
       "      <td>A clasically-styled and introverted album, Mem...</td>\n",
       "      <td>5</td>\n",
       "      <td>Enya at her most elegant</td>\n",
       "      <td>991526400</td>\n",
       "      <td>06 3, 2001</td>\n",
       "    </tr>\n",
       "    <tr>\n",
       "      <th>2</th>\n",
       "      <td>A38IRL0X2T4DPF</td>\n",
       "      <td>5555991584</td>\n",
       "      <td>bob turnley</td>\n",
       "      <td>[2,2]</td>\n",
       "      <td>I never thought Enya would reach the sublime h...</td>\n",
       "      <td>5</td>\n",
       "      <td>The best so far</td>\n",
       "      <td>1058140800</td>\n",
       "      <td>07 14, 2003</td>\n",
       "    </tr>\n",
       "    <tr>\n",
       "      <th>3</th>\n",
       "      <td>A22IK3I6U76GX0</td>\n",
       "      <td>5555991584</td>\n",
       "      <td>Calle</td>\n",
       "      <td>[1,1]</td>\n",
       "      <td>This is the third review of an irish album I w...</td>\n",
       "      <td>5</td>\n",
       "      <td>Ireland produces good music.</td>\n",
       "      <td>957312000</td>\n",
       "      <td>05 3, 2000</td>\n",
       "    </tr>\n",
       "    <tr>\n",
       "      <th>4</th>\n",
       "      <td>A1AISPOIIHTHXX</td>\n",
       "      <td>5555991584</td>\n",
       "      <td>Cloud \"...\"</td>\n",
       "      <td>[1,1]</td>\n",
       "      <td>Enya, despite being a successful recording art...</td>\n",
       "      <td>4</td>\n",
       "      <td>4.5; music to dream to</td>\n",
       "      <td>1200528000</td>\n",
       "      <td>01 17, 2008</td>\n",
       "    </tr>\n",
       "    <tr>\n",
       "      <th>5</th>\n",
       "      <td>A2P49WD75WHAG5</td>\n",
       "      <td>5555991584</td>\n",
       "      <td>Daniel J. Hamlow</td>\n",
       "      <td>[62,65]</td>\n",
       "      <td>Who knows why I initially considered this to b...</td>\n",
       "      <td>5</td>\n",
       "      <td>Dreamy unearthly magic continues with Eire's o...</td>\n",
       "      <td>1059523200</td>\n",
       "      <td>07 30, 2003</td>\n",
       "    </tr>\n",
       "    <tr>\n",
       "      <th>6</th>\n",
       "      <td>A3O90G1D7I5EGG</td>\n",
       "      <td>5555991584</td>\n",
       "      <td>dev1</td>\n",
       "      <td>[1,5]</td>\n",
       "      <td>Enya is one of a few artists whom I consider s...</td>\n",
       "      <td>3</td>\n",
       "      <td>Have You Hugged A Tree Today?</td>\n",
       "      <td>959385600</td>\n",
       "      <td>05 27, 2000</td>\n",
       "    </tr>\n",
       "    <tr>\n",
       "      <th>7</th>\n",
       "      <td>A3EJYJC25OJVKK</td>\n",
       "      <td>5555991584</td>\n",
       "      <td>Distant Voyageur \"Nicholas Computer\"</td>\n",
       "      <td>[5,5]</td>\n",
       "      <td>Enya is one of of the most mysterious singers ...</td>\n",
       "      <td>5</td>\n",
       "      <td>The album for a romantic autumn evening</td>\n",
       "      <td>1040428800</td>\n",
       "      <td>12 21, 2002</td>\n",
       "    </tr>\n",
       "    <tr>\n",
       "      <th>8</th>\n",
       "      <td>A1DA8VOH9NR6C7</td>\n",
       "      <td>5555991584</td>\n",
       "      <td>E. Minkovitch</td>\n",
       "      <td>[4,4]</td>\n",
       "      <td>This is not another lousy Celtic New Age album...</td>\n",
       "      <td>5</td>\n",
       "      <td>Simply wonderful.</td>\n",
       "      <td>1167868800</td>\n",
       "      <td>01 4, 2007</td>\n",
       "    </tr>\n",
       "    <tr>\n",
       "      <th>9</th>\n",
       "      <td>A33TRNCQK4IUO7</td>\n",
       "      <td>5555991584</td>\n",
       "      <td>guillermoj</td>\n",
       "      <td>[12,12]</td>\n",
       "      <td>Many times, AND WITH GOOD REASON, the \"new age...</td>\n",
       "      <td>5</td>\n",
       "      <td>A true gem, even if you don't love conventiona...</td>\n",
       "      <td>1052697600</td>\n",
       "      <td>05 12, 2003</td>\n",
       "    </tr>\n",
       "  </tbody>\n",
       "</table>\n",
       "</div>"
      ],
      "text/plain": [
       "       reviewerID        asin                          reviewerName  helpful  \\\n",
       "0  A3EBHHCZO6V2A4  5555991584                  Amaranth \"music fan\"    [3,3]   \n",
       "1   AZPWAXJG9OJXV  5555991584                             bethtexas    [0,0]   \n",
       "2  A38IRL0X2T4DPF  5555991584                           bob turnley    [2,2]   \n",
       "3  A22IK3I6U76GX0  5555991584                                 Calle    [1,1]   \n",
       "4  A1AISPOIIHTHXX  5555991584                           Cloud \"...\"    [1,1]   \n",
       "5  A2P49WD75WHAG5  5555991584                      Daniel J. Hamlow  [62,65]   \n",
       "6  A3O90G1D7I5EGG  5555991584                                  dev1    [1,5]   \n",
       "7  A3EJYJC25OJVKK  5555991584  Distant Voyageur \"Nicholas Computer\"    [5,5]   \n",
       "8  A1DA8VOH9NR6C7  5555991584                         E. Minkovitch    [4,4]   \n",
       "9  A33TRNCQK4IUO7  5555991584                            guillermoj  [12,12]   \n",
       "\n",
       "                                          reviewText overall  \\\n",
       "0  It's hard to believe \"Memory of Trees\" came ou...       5   \n",
       "1  A clasically-styled and introverted album, Mem...       5   \n",
       "2  I never thought Enya would reach the sublime h...       5   \n",
       "3  This is the third review of an irish album I w...       5   \n",
       "4  Enya, despite being a successful recording art...       4   \n",
       "5  Who knows why I initially considered this to b...       5   \n",
       "6  Enya is one of a few artists whom I consider s...       3   \n",
       "7  Enya is one of of the most mysterious singers ...       5   \n",
       "8  This is not another lousy Celtic New Age album...       5   \n",
       "9  Many times, AND WITH GOOD REASON, the \"new age...       5   \n",
       "\n",
       "                                             summary unixReviewTime  \\\n",
       "0                            Enya's last great album     1158019200   \n",
       "1                           Enya at her most elegant      991526400   \n",
       "2                                    The best so far     1058140800   \n",
       "3                       Ireland produces good music.      957312000   \n",
       "4                             4.5; music to dream to     1200528000   \n",
       "5  Dreamy unearthly magic continues with Eire's o...     1059523200   \n",
       "6                      Have You Hugged A Tree Today?      959385600   \n",
       "7            The album for a romantic autumn evening     1040428800   \n",
       "8                                  Simply wonderful.     1167868800   \n",
       "9  A true gem, even if you don't love conventiona...     1052697600   \n",
       "\n",
       "    reviewTime  \n",
       "0  09 12, 2006  \n",
       "1   06 3, 2001  \n",
       "2  07 14, 2003  \n",
       "3   05 3, 2000  \n",
       "4  01 17, 2008  \n",
       "5  07 30, 2003  \n",
       "6  05 27, 2000  \n",
       "7  12 21, 2002  \n",
       "8   01 4, 2007  \n",
       "9  05 12, 2003  "
      ]
     },
     "execution_count": 41,
     "metadata": {},
     "output_type": "execute_result"
    }
   ],
   "source": [
    "subset"
   ]
  },
  {
   "cell_type": "code",
   "execution_count": 57,
   "metadata": {
    "collapsed": false
   },
   "outputs": [],
   "source": [
    "ss = sid.polarity_scores(subset.reviewText[0])"
   ]
  },
  {
   "cell_type": "code",
   "execution_count": 58,
   "metadata": {
    "collapsed": false
   },
   "outputs": [
    {
     "name": "stdout",
     "output_type": "stream",
     "text": [
      "{'neg': 0.032, 'neu': 0.788, 'pos': 0.18, 'compound': 0.975}\n"
     ]
    }
   ],
   "source": [
    "print(ss)"
   ]
  },
  {
   "cell_type": "code",
   "execution_count": 71,
   "metadata": {
    "collapsed": false
   },
   "outputs": [
    {
     "name": "stdout",
     "output_type": "stream",
     "text": [
      "['A3EBHHCZO6V2A4' 5555991584 'Amaranth \"music fan\"' '[3,3]'\n",
      " 'It\\'s hard to believe \"Memory of Trees\" came out 11 years ago;it has held up well over the passage of time.It\\'s Enya\\'s last great album before the New Age/pop of \"Amarantine\" and \"Day without rain.\" Back in 1995,Enya still had her creative spark,her own voice.I agree with the reviewer who said that this is her saddest album;it is melancholy,bittersweet,from the opening title song.\"Memory of Trees\" is elegaic&majestic.;\"Pax Deorum\" sounds like it is from a Requiem Mass,it is a dark threnody.Unlike the reviewer who said that this has a \"disconcerting\" blend of spirituality&sensuality;,I don\\'t find it disconcerting at all.\"Anywhere is\" is a hopeful song,looking to possibilities.\"Hope has a place\" is about love,but it is up to the listener to decide if it is romantic,platonic,etc.I\\'ve always had a soft spot for this song.\"On my way home\" is a triumphant ending about return.This is truly a masterpiece of New Age music,a must for any Enya fan!'\n",
      " 5 \"Enya's last great album\" 1158019200 '09 12, 2006']\n",
      "compound: 0.975, neg: 0.032, neu: 0.788, pos: 0.18, \n",
      "['AZPWAXJG9OJXV' 5555991584 'bethtexas' '[0,0]'\n",
      " \"A clasically-styled and introverted album, Memory of Trees is a masterpiece of subtlety.  Many of the songs have an endearing shyness to them - soft piano and a lovely, quiet voice.  But within every introvert is an inferno, and Enya lets that fire explode on a couple of songs that absolutely burst with an expected raw power.If you've never heard Enya before, you might want to start with one of her more popularized works, like Watermark, just to play it safe.  But if you're already a fan, then your collection is not complete without this beautiful work of musical art.\"\n",
      " 5 'Enya at her most elegant' 991526400 '06 3, 2001']\n",
      "compound: 0.9242, neg: 0.073, neu: 0.727, pos: 0.199, \n",
      "['A38IRL0X2T4DPF' 5555991584 'bob turnley' '[2,2]'\n",
      " \"I never thought Enya would reach the sublime heights of Evacuee or Marble Halls from 'Shepherd Moons.' 'The Celts, Watermark and Day...' were all pleasant and admirable throughout, but are less ambitious both lyrically and musically. But Hope Has a Place from 'Memory...' reaches those heights and beyond. It is Enya at her most inspirational and comforting. I'm actually glad that this song didn't get overexposed the way Only Time did. It makes it that much more special to all who own this album.\"\n",
      " 5 'The best so far' 1058140800 '07 14, 2003']\n",
      "compound: 0.9837, neg: 0.0, neu: 0.698, pos: 0.302, \n",
      "['A22IK3I6U76GX0' 5555991584 'Calle' '[1,1]'\n",
      " \"This is the third review of an irish album I write today (the others were Cranberries) and now I'm sure about that Ireland is one of the countries producing the best music in the world. And not just commercial pop-music in the Spice Girls way. Okay, I just wanted to say something about Irish  music. Now let's say something about this album. It's great. it's  beautiful. Very good, easy listened music. If you like Enya or you just  want some easy-listened relaxing music. This is the album for you to buy!\"\n",
      " 5 'Ireland produces good music.' 957312000 '05 3, 2000']\n",
      "compound: 0.9819, neg: 0.0, neu: 0.724, pos: 0.276, \n",
      "['A1AISPOIIHTHXX' 5555991584 'Cloud \"...\"' '[1,1]'\n",
      " 'Enya, despite being a successful recording artist, doesn\\'t have the broad appeal as other artists; one reason might be that her kind of music is not very pop station friendly while another reason could be people think they\\'re too \"macho\" for music that she makes. But people with open minds could find there\\'s some beautiful melodies and harmonies as well as lively, upbeat tunes that are a joy to put on. I find the Memory of Trees to be one of her most consistent albums; plus it helps it has probably one of my top 5 favorite songs ever.The Memory of Trees: Like all of her records (except the recent Amarantine), the albums open with a wordless instrumental and this album\\'s title track is probably my favorite with gentle piano arpeggios and a beautiful vocal track. I always like the sparse use of percussion. 9/10Anywhere Is: The lively single; it\\'s actually a good sing-along with staccato beats and a great chorus. It\\'s also a perfect length since it\\'s under 3 minutes so whereas some pop songs drag after awhile, this one hooks you in then lets you go, leaving you wanting more. 9/10Pax Deorum: Another album, another ominous Latin-sung piece. The music sounds like something you\\'d hear in enemy territories in video games while Enya gives a low-voice, almost monotone performance over the music. Slightly repetitive until a 2nd higher voice comes in but the piece hits its stride halfway with a gorgeous bridge. 8/10Athair Ar Nearmh: There\\'s some songs she does where it\\'s more about the song itself rather than a poppy, catchy quality a la Only Time and this song\\'s similar. Another ballad with some of her best singing, it\\'s a more low-key track but it\\'s also one of the album highlights. 8.5/10From Where I Am: Another instrumental; this one\\'s a more piano-based piece that would be a nice song to learn for all pianists out there since it\\'s not technically complex or fast but it\\'s pleasant to listen to. 7.5/10China Roses: There\\'s only a handful of songs I could have on repeat and never get sick of them and this is one of them. Everything from the vocals and background instrumentation, the lyrics and not to mention one of the most relaxing and almost tranquil ending codas I\\'ve ever heard, this is definately my favorite song on here, plus her whole career even. 15/10Hope Has a Place: For me, any song after China Roses will probably suffer a tad but this song doesn\\'t do much for me. Granted, her vocals are as great as always and the song has a nice, relaxing mood but either this kind of track is too familiar (a kind of Athair part 2 if you will) or it\\'s just not as memorable. 7/10Tea-House Moon: Very oriental in its instruments, it\\'s another wordless song although it\\'s more enjoyable than From Where I Am is, mainly because the melodies are more memorable and it\\'s a bit more song-oriented. It\\'s different but strangely likable. 8/10Once You Had Gold: We\\'re getting into the album\\'s final stretch and the problem is that with this one, it\\'s a more quieter affair as you can feel the album almost winding down. With Enya\\'s more higher vocals (for some reason, reminiscent of her Silent Night rendition), it\\'s another beautiful track but it\\'s also a bit...same-y? 8/10La Sonadora: Spanish lyrics for once, it\\'s another slower paced track complete with \"aahs\" for background vocals and synths but again, the album could\\'ve benefited from a more perkier track. I do like what it does at the halfway point and gives the track a little boost. 7.5/10On My Way Home: A church organ opens the track and with a more bouncy synth, you\\'d think it was a bit more upbeat. While it\\'s not as lively as her vocals on Anywhere Is, it does give the album a bit more memorable closer, especially when the chorus comes where the track gets more fuller in its arrangements. 9/10While A Day Without Rain or Watermark is usually marked as one of her best (probably because her big hits Only Time and Orinoco Flow were on them), I find the Memory of Trees a more likable album and despite a lack of more upbeat tracks, it\\'s still one of her finest outings.'\n",
      " 4 '4.5; music to dream to' 1200528000 '01 17, 2008']\n",
      "compound: 0.9982, neg: 0.028, neu: 0.824, pos: 0.149, \n",
      "['A2P49WD75WHAG5' 5555991584 'Daniel J. Hamlow' '[62,65]'\n",
      " \"Who knows why I initially considered this to be a duff album by the woman with the most beautiful voice in the world.  Maybe I was expecting Shepherd's Moon Part II and saw Memory Of Trees as Shepherd's Eclipse.  The songs didn't leap out to me?  Well, listening to it for this review, it finally did, and I've embraced it like I have her other albums.  The four years inbetween albums was worth it.Of the opening instrumental title tracks, &quot;The Memory Of Trees&quot; is the most potent, sporting the usual instrumentals, pianos, haunting wall-of-sound choir-like vocals, pounding drums recalling &quot;The Longships&quot; from Watermark.The brisk &quot;Anywhere Is&quot;, whose dominant tempo reminds me of a horse having a gentle canter down a park, is backed by strings and backing vocals.  There's an interesting motif in the first line of her reaching a horizon but finding another, where something that looks like an end is actually a new beginning.  Bit like life, isn't it?&quot;Pax Deorum&quot; is a Latin track begins with a cold dark wind, which sets the grim bass pulsing keyboard permeating throughout the song, as well as an ominous sound that sounds a bit like a foghorn, though not as loud or brash.  This part sounds a bit like an incantation.  Her voice alternates between a soft but lower register and her full vocals.The piano (and later some other instrument) ballad &quot;Athair Ar Neamh&quot; is a sad but beautiful sung tune, full of yearning.  Makes me want to learn Gaelic.  My favourite song here, and Enya sounds her best singing like this.The wistful, reflective piano only instrumental &quot;From Where I Am&quot; is a variation of &quot;Miss Clare Remembers&quot; from Watermark, with some shades of &quot;Epona&quot; from the Enya album.&quot;China Roses&quot; is one of her visual and visionary poetic songs and it's an enchanting delight to hear.  I see melodic strains of what would later become &quot;Only Time.&quot;  That wall of sound really enhances her vocals, and the following lyrics really create the image of a dreamland:  &quot;A new moon leads me to/woods of dreams and I follow/a new world waits for me/my dream, my way&quot; and &quot;Rain and river, a world of wonder/may be paradise to me&quot;.  Gosh, how I love this woman!OK, all you romantics.  &quot;Hope Has A Place&quot; is the song for you.  Enya's vocal echoes hauntingly here and that dreamy wall of sound is in full bloom.  And how's this for some sagely advice:  &quot;Look to love/you may dream/and if it should leave/then give it wings/But if such a love is meant to be/Hope is home, and the heart is free.&quot;  I can't decide whether I like this better than &quot;Athair Ar Neamh.&quot;The third instrumental, &quot;Tea-House Moon&quot;, has some Oriental strains, with some otherworldly synths and conjures the image of one looking up at the stars.  As for the title, a nod to Teahouse Of The August Moon, set in post-WW2 Japan and starring Machiko Kyo?&quot;Once You Had Gold&quot; is a proverbial seasons come, seasons go type, and has a mystical sense of why things go wrong:  &quot;No-one can promise a dream for you/Time gave both darkness and dreams to you.&quot; and &quot;What is the dark, shadows around you/why not take heart in the new day?&quot;&quot;La Sonadora&quot; is her first Spanish song and it's more an interlude.  The backing wall of music rise to a crescendo in the song's midsection.A reminiscing night traveller's thoughts comprise &quot;On My Way Home&quot;, where &quot;I remember all the best days/I'm on my way home/I can remember every new day&quot; is surrounded by the dreamy wall of sound.Compared to her first three albums, Enya's voice is more mesmerizingly beautiful than I've ever heard.  She seems to be a one-woman band here, as it's &quot;all instruments and vocals by Enya&quot; per the credits.  There's more a wall of dreamy sound here--check out how many times I've mentioned this.  Repeated listenings will tell whether it'll dislodge Shepherd's Moon as my favourite Enya album.\"\n",
      " 5 \"Dreamy unearthly magic continues with Eire's one and only!\" 1059523200\n",
      " '07 30, 2003']\n",
      "compound: 0.9983, neg: 0.04, neu: 0.791, pos: 0.17, \n",
      "['A3O90G1D7I5EGG' 5555991584 'dev1' '[1,5]'\n",
      " \"Enya is one of a few artists whom I consider successful at creating this type of electronic atmospheric and dreamlike music. For certain, The Memory Of Trees is melodic, romantic and sensuous. Roma Ryan's lyrics, sung in  Gaelic by Enya (Athair Ar Neamh), float gently like pillow-soft white  clouds. The compositions are relaxing and harmonious (Tea House Moon),  dreamlike and filled with mystery (Once You Had Gold), and include subtle  touches of Celtic tradition (Enya's phrasing on `Hope Has A Place'). The CD  is a quiet and lush alternative to ninety-percent of the popular music on  the market today, and also a welcome substitute for the often hectic pace  of daily life. Enya's arrangement of the compositions on Memory is well  thought - the comparatively dramatic and uplifting `Anywhere Is' and `On My  Way Home' are placed so that the listener doesn't fall asleep.However,  I'm very leery when I read a dozen reviews of a particular musical release,  and all the writers rate the artist's work with five-stars. My hesitation  is not a matter of taste (listeners are free to condemn or rave about  whatever they please), but one of perspective. Is The Memory Of Trees a  musical ground breaking effort? Does it introduce a unique technique or  significantly alter a current genre of popular music? On close listening,  the electronic pseudo-symphonic music of Memory does not approach the  beauty or dynamics of an orchestra with real people playing real  instruments. Nor does Enya's multi-layering of her own voice have the same  rich sonic texture as a chorus comprised of real voices. Then again,  perhaps The Memory Of Trees (and all of Enya's work) is so provocatively  ethereal because it is surreal.\"\n",
      " 3 'Have You Hugged A Tree Today?' 959385600 '05 27, 2000']\n",
      "compound: 0.9685, neg: 0.029, neu: 0.849, pos: 0.122, \n",
      "['A3EJYJC25OJVKK' 5555991584 'Distant Voyageur \"Nicholas Computer\"' '[5,5]'\n",
      " \"Enya is one of of the most mysterious singers in music today. I consider her to be one of the few female singers who in my opinion can still make some great angelic melodies that don't sound banal or cheap even though some of her songs are so short as to be almost like unfinished demo tapes( Will she someday produce and compose a song that is about eight ot nine minutes long). The Memory Of Trees is my second favorite CD of hers behing Watermark which I consider to be her strongest outing to date. I doubt Enya will topple Watermark to tell you the truth.Many people say that this is a sunny album. Well, it is kind of true. The sunniness is evidenced on the title track, Anywhere Is, and the Orinoco Flow-esque On My Way Home. Generally I think of this album as an album for a cloudy, romantic autumn evening with the leaves a bright red, orange and yellow. Several songs are quite dark and cloudy but not stormy like let's say Storms In Africa, Exile, or creepy like Evening Falls. This album is a gorgeous musical journey that trancends boundaries. I find this to be like the darker companion to the sunniness of A Day Without Rain which followed this one five years later.I usually go with the darker material that Enya does but I enjoy the brighter material as well( I love music that is dark and stormy).The title track is a gorgeous instrumental that has Enya returning to the days of the Celts CD. Instead of the usual piano instrumental that introduced us to Watermark, Shephard Moons, and A Day Without Rain we get a song that is more synthesized and with thundering beats to bop your head to combined with Enyas multilayered vocals that starts out as a cloudy minor note and after about 30 seconds it morphs into a major note to give an impression of the sun shining through the clouds on a warm autumn afternoon. This song is more similar to the Celts than the piano instrumentals of most of her albums although this song is much brighter than the Celts title track. Anywhere Is is like the blueprint of Enyas big-selling A Day Without Rain. It's a very bright, sunny song with rhythm that could make you almost bop your head along with. This song is more legato although there are hints of the staccato pizzicato strings that would dominate a lot of Enyas A Day Without Rain. I love the quiet middle part of the song. It kind of reminds me of the quiet bridge of Orinoco Flow a few years before then. After the sunniness we head into darker, mistier territory of Pax Deorum. This song is another dark almost Gothic piece that features Enya singing in Latin with a very misty feel. In the middle of the song the rhythm pauses and the sing becomes a major note for about a minute giving an imression of the sun breaking through the dark clouds. I consider this to be Enyas best 'Gothic' song to this day. It's almost like the darker side of Heaven if you could call it that. The song reverts back into a dark misty minor note song. Athair Ar Neamh is a very sad, cloudy evening song that features Enya singing in Gaelic. This song is a very beautiful, theme for a guy who is having a lonely summer. The song ends in a major note key like the sun breaking out just before it goes down. From Where I am is a beautiful piano instrumental. China Roses is a gorgeous, breathtaking, ambient song that made me get this album. It's one of Enyas most stunning compositions to date in my opinion. China Roses is a very romantic song that brings up images two lovers walking alongside the waterfront with the red leaves falling onto the surface of a pond with a large garden of roses and a huge crystal castle in the background. China Roses is one of Enyas most brilliant songs to this day. This song is the winner on the Memory Of Trees. Hope Has A Place is a another beautiful song that is similar to China Roses although not quite as powerful or mind- stimulating but still great. This song is a song about how hope is still existant even in bleak situations. This song reminds me of How Can I Keep From Singing from Shepard Moons. Tea-House Moon is one of the best Enya instrumentals I have ever listened to. It's a very stunning song with high pitched synths in the background with electronic synths in the foreground. This song is one to enjoy when it's cloudy and the red leaves are falling to the ground. This song is one of my favorites off this CD. Once You Had Gold is one song that you probably shouldn't play if you have not had much sleep because it's one song that will sooth your soul. I fell asleep in class a few times in the past listening to this song *giggles*. This song though is great though. I enjoy it alot on a cloudy evening. La Sonadora is a very haunting song that features Enya singing in Spanish. This song is very dark and spooky although not stormy or scary as let's say Exile, Storms In Africa or the dynamite Na Leatha Geal M'Oige but this song is one of the darker songs off this album. The chants remind me a bit of Smaointe from a decade ago. We brighten up again with the closing track On My Way Home. This song that contains many elements of the 1988 hit Orinoco Flow although not as spooky as that one. This song is much brighter than Orinoco and happier. This song is like the predecessor to the brightness of A Day Without Rain that followed this one five years later...I consider this to be one of Enyas strongest albums to date. Only Watermark surpasses this one and it's not by too much. I strongly recommend that all Enya fans buy this amazing masterpiece. It's gorgeous and an album for the soul...\"\n",
      " 5 'The album for a romantic autumn evening' 1040428800 '12 21, 2002']\n",
      "compound: 0.9997, neg: 0.021, neu: 0.773, pos: 0.206, \n",
      "['A1DA8VOH9NR6C7' 5555991584 'E. Minkovitch' '[4,4]'\n",
      " 'This is not another lousy Celtic New Age album - it is a genuine piece of music, well written and performed with emotion. It never fails to send shivers up and down my spine for some reason... Ever since I heard Orinoco Flow Enya has cast her spell on me. She is just so different and strange and so utterly artistic. On this album every song is as perfect as it can get on a pop record, with melodies that have a tendency to lodge themselves into my brain. I have every Enya album to date, but this one seems to be particularly special. A must for any music lover!'\n",
      " 5 'Simply wonderful.' 1167868800 '01 4, 2007']\n",
      "compound: 0.9376, neg: 0.013, neu: 0.838, pos: 0.148, \n",
      "['A33TRNCQK4IUO7' 5555991584 'guillermoj' '[12,12]'\n",
      " 'Many times, AND WITH GOOD REASON, the \"new age\" label gets slammed for lacking originality and conviction. Enya is not an artist who blends in with the rest and this release is, in my opinion, her best to date.There is certainly an ethereal quality associated with new age and Enya is certainly a new age artist, but she has strong writing skills and gorgeous and very unique voice that sets her apart from her peers. And if you look at what is being released these days, many groups are ripping off elements of her uniqueness and plastering them on down tempo songs with session singers who do an ok job of copying Enya, but don\\'t reach the depths of beauty and passion that only Enya seems to find.What makes this a 5-star review for me is that the songs work independently and even better as a cohesive set that keeps you involved and feeling like you are living in an even better world than this one we know. I know this sounds ridiculous, but take this review from someone who usually prefers an entirely different type of music. Al the songs are great and although this CD can be great background music, it works even better when it\\'s in the forefront of your attention because the production work is so masterful.Many artists/fans are critical of the work that the producer brings to the table, but I am always very appreciative when the final product does not sound like it was manufactured by an assembly line, but rather reflects a balance of the artist\\'s intent with the listener in mind.Thanks for reading and I would like to thank ALL reviewers as their opinions (even when I disagree) give me clues as to what I may like and even more importantly provide exposure to artists who I may have missed if it were not for work. Also, thanks to Amazon.com for providing this forum as I think that it clearly benefits the company, but ultimately it also can be a great place for a potential buyer to find his or her next favorite CD.'\n",
      " 5 'A true gem, even if you don\\'t love conventional \"new age\"' 1052697600\n",
      " '05 12, 2003']\n",
      "compound: 0.9983, neg: 0.024, neu: 0.739, pos: 0.237, \n"
     ]
    }
   ],
   "source": [
    "for index, row in subset.iterrows():\n",
    "     print(subset.values[index])\n",
    "     ss = sid.polarity_scores(subset.reviewText[index])\n",
    "     for k in sorted(ss):\n",
    "         print('{0}: {1}, '.format(k, ss[k]), end='')\n",
    "     print()"
   ]
  },
  {
   "cell_type": "code",
   "execution_count": 74,
   "metadata": {
    "collapsed": false
   },
   "outputs": [
    {
     "ename": "PandasError",
     "evalue": "DataFrame constructor not properly called!",
     "output_type": "error",
     "traceback": [
      "\u001b[1;31m---------------------------------------------------------------------------\u001b[0m",
      "\u001b[1;31mPandasError\u001b[0m                               Traceback (most recent call last)",
      "\u001b[1;32m<ipython-input-74-5f6ce5bb51ff>\u001b[0m in \u001b[0;36m<module>\u001b[1;34m()\u001b[0m\n\u001b[0;32m      3\u001b[0m      \u001b[0mss\u001b[0m \u001b[1;33m=\u001b[0m \u001b[0msid\u001b[0m\u001b[1;33m.\u001b[0m\u001b[0mpolarity_scores\u001b[0m\u001b[1;33m(\u001b[0m\u001b[0msubset\u001b[0m\u001b[1;33m.\u001b[0m\u001b[0mreviewText\u001b[0m\u001b[1;33m[\u001b[0m\u001b[0mindex\u001b[0m\u001b[1;33m]\u001b[0m\u001b[1;33m)\u001b[0m\u001b[1;33m\u001b[0m\u001b[0m\n\u001b[0;32m      4\u001b[0m      \u001b[1;32mfor\u001b[0m \u001b[0mk\u001b[0m \u001b[1;32min\u001b[0m \u001b[0msorted\u001b[0m\u001b[1;33m(\u001b[0m\u001b[0mss\u001b[0m\u001b[1;33m)\u001b[0m\u001b[1;33m:\u001b[0m\u001b[1;33m\u001b[0m\u001b[0m\n\u001b[1;32m----> 5\u001b[1;33m          \u001b[0mdf\u001b[0m\u001b[1;33m=\u001b[0m\u001b[0mpd\u001b[0m\u001b[1;33m.\u001b[0m\u001b[0mDataFrame\u001b[0m\u001b[1;33m(\u001b[0m\u001b[1;34m'{0}: {1}, '\u001b[0m\u001b[1;33m.\u001b[0m\u001b[0mformat\u001b[0m\u001b[1;33m(\u001b[0m\u001b[0mk\u001b[0m\u001b[1;33m,\u001b[0m \u001b[0mss\u001b[0m\u001b[1;33m[\u001b[0m\u001b[0mk\u001b[0m\u001b[1;33m]\u001b[0m\u001b[1;33m)\u001b[0m\u001b[1;33m)\u001b[0m\u001b[1;33m\u001b[0m\u001b[0m\n\u001b[0m",
      "\u001b[1;32mC:\\Anaconda3\\lib\\site-packages\\pandas\\core\\frame.py\u001b[0m in \u001b[0;36m__init__\u001b[1;34m(self, data, index, columns, dtype, copy)\u001b[0m\n\u001b[0;32m    303\u001b[0m                                          copy=False)\n\u001b[0;32m    304\u001b[0m             \u001b[1;32melse\u001b[0m\u001b[1;33m:\u001b[0m\u001b[1;33m\u001b[0m\u001b[0m\n\u001b[1;32m--> 305\u001b[1;33m                 \u001b[1;32mraise\u001b[0m \u001b[0mPandasError\u001b[0m\u001b[1;33m(\u001b[0m\u001b[1;34m'DataFrame constructor not properly called!'\u001b[0m\u001b[1;33m)\u001b[0m\u001b[1;33m\u001b[0m\u001b[0m\n\u001b[0m\u001b[0;32m    306\u001b[0m \u001b[1;33m\u001b[0m\u001b[0m\n\u001b[0;32m    307\u001b[0m         \u001b[0mNDFrame\u001b[0m\u001b[1;33m.\u001b[0m\u001b[0m__init__\u001b[0m\u001b[1;33m(\u001b[0m\u001b[0mself\u001b[0m\u001b[1;33m,\u001b[0m \u001b[0mmgr\u001b[0m\u001b[1;33m,\u001b[0m \u001b[0mfastpath\u001b[0m\u001b[1;33m=\u001b[0m\u001b[1;32mTrue\u001b[0m\u001b[1;33m)\u001b[0m\u001b[1;33m\u001b[0m\u001b[0m\n",
      "\u001b[1;31mPandasError\u001b[0m: DataFrame constructor not properly called!"
     ]
    }
   ],
   "source": [
    "for index, row in subset.iterrows():\n",
    "     #print(subset.values[index])\n",
    "     ss = sid.polarity_scores(subset.reviewText[index])\n",
    "     for k in sorted(ss):\n",
    "         print('{0}: {1}, '.format(k, ss[k]), end='')\n",
    "     print()"
   ]
  },
  {
   "cell_type": "code",
   "execution_count": 92,
   "metadata": {
    "collapsed": false
   },
   "outputs": [],
   "source": [
    "dataneg=[]\n",
    "datapos=[]\n",
    "dataneutr=[]\n",
    "datacompound=[]\n",
    "for index, row in subset.iterrows():\n",
    "     #print(subset.values[index])\n",
    "     ss = sid.polarity_scores(subset.reviewText[index])\n",
    "     dataneg.append(ss['neg'])\n",
    "     datapos.append(ss['pos'])\n",
    "     dataneutr.append(ss['neu'])\n",
    "     datacompound.append(ss['compound'])\n"
   ]
  },
  {
   "cell_type": "code",
   "execution_count": 82,
   "metadata": {
    "collapsed": false
   },
   "outputs": [],
   "source": [
    "import numpy as np\n",
    "score_ds=[np.array(datacompound),np.array(dataneg),np.array(dataneutr),np.array(datapos)]"
   ]
  },
  {
   "cell_type": "code",
   "execution_count": 93,
   "metadata": {
    "collapsed": false
   },
   "outputs": [],
   "source": [
    "score_ds=[datacompound,dataneg,dataneutr,datapos]"
   ]
  },
  {
   "cell_type": "code",
   "execution_count": 86,
   "metadata": {
    "collapsed": false
   },
   "outputs": [
    {
     "name": "stdout",
     "output_type": "stream",
     "text": [
      "[[0.975, 0.9242, 0.9837, 0.9819, 0.9982, 0.9983, 0.9685, 0.9997, 0.9376, 0.9983], [0.032, 0.073, 0.0, 0.0, 0.028, 0.04, 0.029, 0.021, 0.013, 0.024], [0.788, 0.727, 0.698, 0.724, 0.824, 0.791, 0.849, 0.773, 0.838, 0.739], [0.18, 0.199, 0.302, 0.276, 0.149, 0.17, 0.122, 0.206, 0.148, 0.237]]\n"
     ]
    }
   ],
   "source": [
    "print(score_ds)"
   ]
  },
  {
   "cell_type": "code",
   "execution_count": 96,
   "metadata": {
    "collapsed": false
   },
   "outputs": [],
   "source": [
    "s1 =subset    \n",
    "neg= pd.DataFrame(dataneg)"
   ]
  },
  {
   "cell_type": "code",
   "execution_count": 101,
   "metadata": {
    "collapsed": false
   },
   "outputs": [
    {
     "ename": "TypeError",
     "evalue": "cannot concatenate a non-NDFrame object",
     "output_type": "error",
     "traceback": [
      "\u001b[1;31m---------------------------------------------------------------------------\u001b[0m",
      "\u001b[1;31mTypeError\u001b[0m                                 Traceback (most recent call last)",
      "\u001b[1;32m<ipython-input-101-7fd47885f7ce>\u001b[0m in \u001b[0;36m<module>\u001b[1;34m()\u001b[0m\n\u001b[0;32m      1\u001b[0m \u001b[1;32mfor\u001b[0m \u001b[0mindex\u001b[0m\u001b[1;33m,\u001b[0m \u001b[0mrow\u001b[0m \u001b[1;32min\u001b[0m \u001b[0ms1\u001b[0m\u001b[1;33m.\u001b[0m\u001b[0miterrows\u001b[0m\u001b[1;33m(\u001b[0m\u001b[1;33m)\u001b[0m\u001b[1;33m:\u001b[0m\u001b[1;33m\u001b[0m\u001b[0m\n\u001b[0;32m      2\u001b[0m     \u001b[1;32mfor\u001b[0m \u001b[0mindex\u001b[0m\u001b[1;33m,\u001b[0m \u001b[0mrow\u001b[0m \u001b[1;32min\u001b[0m \u001b[0mneg\u001b[0m\u001b[1;33m.\u001b[0m\u001b[0miterrows\u001b[0m\u001b[1;33m(\u001b[0m\u001b[1;33m)\u001b[0m\u001b[1;33m:\u001b[0m\u001b[1;33m\u001b[0m\u001b[0m\n\u001b[1;32m----> 3\u001b[1;33m         \u001b[0ms1\u001b[0m\u001b[1;33m.\u001b[0m\u001b[0mappend\u001b[0m\u001b[1;33m(\u001b[0m\u001b[0mneg\u001b[0m\u001b[1;33m.\u001b[0m\u001b[0mcolumns\u001b[0m\u001b[1;33m)\u001b[0m\u001b[1;33m\u001b[0m\u001b[0m\n\u001b[0m",
      "\u001b[1;32mC:\\Anaconda3\\lib\\site-packages\\pandas\\core\\frame.py\u001b[0m in \u001b[0;36mappend\u001b[1;34m(self, other, ignore_index, verify_integrity)\u001b[0m\n\u001b[0;32m   4229\u001b[0m             \u001b[0mto_concat\u001b[0m \u001b[1;33m=\u001b[0m \u001b[1;33m[\u001b[0m\u001b[0mself\u001b[0m\u001b[1;33m,\u001b[0m \u001b[0mother\u001b[0m\u001b[1;33m]\u001b[0m\u001b[1;33m\u001b[0m\u001b[0m\n\u001b[0;32m   4230\u001b[0m         return concat(to_concat, ignore_index=ignore_index,\n\u001b[1;32m-> 4231\u001b[1;33m                       verify_integrity=verify_integrity)\n\u001b[0m\u001b[0;32m   4232\u001b[0m \u001b[1;33m\u001b[0m\u001b[0m\n\u001b[0;32m   4233\u001b[0m     def join(self, other, on=None, how='left', lsuffix='', rsuffix='',\n",
      "\u001b[1;32mC:\\Anaconda3\\lib\\site-packages\\pandas\\tools\\merge.py\u001b[0m in \u001b[0;36mconcat\u001b[1;34m(objs, axis, join, join_axes, ignore_index, keys, levels, names, verify_integrity, copy)\u001b[0m\n\u001b[0;32m    810\u001b[0m                        \u001b[0mkeys\u001b[0m\u001b[1;33m=\u001b[0m\u001b[0mkeys\u001b[0m\u001b[1;33m,\u001b[0m \u001b[0mlevels\u001b[0m\u001b[1;33m=\u001b[0m\u001b[0mlevels\u001b[0m\u001b[1;33m,\u001b[0m \u001b[0mnames\u001b[0m\u001b[1;33m=\u001b[0m\u001b[0mnames\u001b[0m\u001b[1;33m,\u001b[0m\u001b[1;33m\u001b[0m\u001b[0m\n\u001b[0;32m    811\u001b[0m                        \u001b[0mverify_integrity\u001b[0m\u001b[1;33m=\u001b[0m\u001b[0mverify_integrity\u001b[0m\u001b[1;33m,\u001b[0m\u001b[1;33m\u001b[0m\u001b[0m\n\u001b[1;32m--> 812\u001b[1;33m                        copy=copy)\n\u001b[0m\u001b[0;32m    813\u001b[0m     \u001b[1;32mreturn\u001b[0m \u001b[0mop\u001b[0m\u001b[1;33m.\u001b[0m\u001b[0mget_result\u001b[0m\u001b[1;33m(\u001b[0m\u001b[1;33m)\u001b[0m\u001b[1;33m\u001b[0m\u001b[0m\n\u001b[0;32m    814\u001b[0m \u001b[1;33m\u001b[0m\u001b[0m\n",
      "\u001b[1;32mC:\\Anaconda3\\lib\\site-packages\\pandas\\tools\\merge.py\u001b[0m in \u001b[0;36m__init__\u001b[1;34m(self, objs, axis, join, join_axes, keys, levels, names, ignore_index, verify_integrity, copy)\u001b[0m\n\u001b[0;32m    866\u001b[0m         \u001b[1;32mfor\u001b[0m \u001b[0mobj\u001b[0m \u001b[1;32min\u001b[0m \u001b[0mobjs\u001b[0m\u001b[1;33m:\u001b[0m\u001b[1;33m\u001b[0m\u001b[0m\n\u001b[0;32m    867\u001b[0m             \u001b[1;32mif\u001b[0m \u001b[1;32mnot\u001b[0m \u001b[0misinstance\u001b[0m\u001b[1;33m(\u001b[0m\u001b[0mobj\u001b[0m\u001b[1;33m,\u001b[0m \u001b[0mNDFrame\u001b[0m\u001b[1;33m)\u001b[0m\u001b[1;33m:\u001b[0m\u001b[1;33m\u001b[0m\u001b[0m\n\u001b[1;32m--> 868\u001b[1;33m                 \u001b[1;32mraise\u001b[0m \u001b[0mTypeError\u001b[0m\u001b[1;33m(\u001b[0m\u001b[1;34m\"cannot concatenate a non-NDFrame object\"\u001b[0m\u001b[1;33m)\u001b[0m\u001b[1;33m\u001b[0m\u001b[0m\n\u001b[0m\u001b[0;32m    869\u001b[0m \u001b[1;33m\u001b[0m\u001b[0m\n\u001b[0;32m    870\u001b[0m             \u001b[1;31m# consolidate\u001b[0m\u001b[1;33m\u001b[0m\u001b[1;33m\u001b[0m\u001b[0m\n",
      "\u001b[1;31mTypeError\u001b[0m: cannot concatenate a non-NDFrame object"
     ]
    }
   ],
   "source": [
    "for index, row in s1.iterrows():\n",
    "    for index, row in neg.iterrows():\n",
    "        s1.append(neg.columns)"
   ]
  },
  {
   "cell_type": "code",
   "execution_count": 102,
   "metadata": {
    "collapsed": false
   },
   "outputs": [
    {
     "ename": "TypeError",
     "evalue": "append() missing 1 required positional argument: 'other'",
     "output_type": "error",
     "traceback": [
      "\u001b[1;31m---------------------------------------------------------------------------\u001b[0m",
      "\u001b[1;31mTypeError\u001b[0m                                 Traceback (most recent call last)",
      "\u001b[1;32m<ipython-input-102-951f3ffde091>\u001b[0m in \u001b[0;36m<module>\u001b[1;34m()\u001b[0m\n\u001b[0;32m      6\u001b[0m      \u001b[1;31m#print(subset.values[index])\u001b[0m\u001b[1;33m\u001b[0m\u001b[1;33m\u001b[0m\u001b[0m\n\u001b[0;32m      7\u001b[0m      \u001b[0mss\u001b[0m \u001b[1;33m=\u001b[0m \u001b[0msid\u001b[0m\u001b[1;33m.\u001b[0m\u001b[0mpolarity_scores\u001b[0m\u001b[1;33m(\u001b[0m\u001b[0msubset\u001b[0m\u001b[1;33m.\u001b[0m\u001b[0mreviewText\u001b[0m\u001b[1;33m[\u001b[0m\u001b[0mindex\u001b[0m\u001b[1;33m]\u001b[0m\u001b[1;33m)\u001b[0m\u001b[1;33m\u001b[0m\u001b[0m\n\u001b[1;32m----> 8\u001b[1;33m      \u001b[0mdataneg\u001b[0m\u001b[1;33m.\u001b[0m\u001b[0mappend\u001b[0m\u001b[1;33m(\u001b[0m\u001b[0mss\u001b[0m\u001b[1;33m[\u001b[0m\u001b[1;34m'neg'\u001b[0m\u001b[1;33m]\u001b[0m\u001b[1;33m)\u001b[0m\u001b[1;33m\u001b[0m\u001b[0m\n\u001b[0m\u001b[0;32m      9\u001b[0m      \u001b[0mdatapos\u001b[0m\u001b[1;33m.\u001b[0m\u001b[0mappend\u001b[0m\u001b[1;33m(\u001b[0m\u001b[0mss\u001b[0m\u001b[1;33m[\u001b[0m\u001b[1;34m'pos'\u001b[0m\u001b[1;33m]\u001b[0m\u001b[1;33m)\u001b[0m\u001b[1;33m\u001b[0m\u001b[0m\n\u001b[0;32m     10\u001b[0m      \u001b[0mdataneutr\u001b[0m\u001b[1;33m.\u001b[0m\u001b[0mappend\u001b[0m\u001b[1;33m(\u001b[0m\u001b[0mss\u001b[0m\u001b[1;33m[\u001b[0m\u001b[1;34m'neu'\u001b[0m\u001b[1;33m]\u001b[0m\u001b[1;33m)\u001b[0m\u001b[1;33m\u001b[0m\u001b[0m\n",
      "\u001b[1;31mTypeError\u001b[0m: append() missing 1 required positional argument: 'other'"
     ]
    }
   ],
   "source": [
    "dataneg=pd.DataFrame\n",
    "datapos=pd.DataFrame\n",
    "dataneutr=pd.DataFrame\n",
    "datacompound=pd.DataFrame\n",
    "for index, row in subset.iterrows():\n",
    "     #print(subset.values[index])\n",
    "     ss = sid.polarity_scores(subset.reviewText[index])\n",
    "     dataneg.append(ss['neg'])\n",
    "     datapos.append(ss['pos'])\n",
    "     dataneutr.append(ss['neu'])\n",
    "     datacompound.append(ss['compound'])"
   ]
  },
  {
   "cell_type": "code",
   "execution_count": null,
   "metadata": {
    "collapsed": true
   },
   "outputs": [],
   "source": []
  }
 ],
 "metadata": {
  "kernelspec": {
   "display_name": "Python 3",
   "language": "python",
   "name": "python3"
  },
  "language_info": {
   "codemirror_mode": {
    "name": "ipython",
    "version": 3
   },
   "file_extension": ".py",
   "mimetype": "text/x-python",
   "name": "python",
   "nbconvert_exporter": "python",
   "pygments_lexer": "ipython3",
   "version": "3.5.2"
  }
 },
 "nbformat": 4,
 "nbformat_minor": 0
}
